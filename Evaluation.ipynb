{
 "cells": [
  {
   "cell_type": "code",
   "execution_count": 52,
   "metadata": {},
   "outputs": [
    {
     "name": "stdout",
     "output_type": "stream",
     "text": [
      "The autoreload extension is already loaded. To reload it, use:\n",
      "  %reload_ext autoreload\n"
     ]
    }
   ],
   "source": [
    "%load_ext autoreload\n",
    "%autoreload 2"
   ]
  },
  {
   "cell_type": "code",
   "execution_count": 47,
   "metadata": {},
   "outputs": [],
   "source": [
    "from TME01.Parser import Parser\n",
    "from TME03.QueryParser import QueryParser\n",
    "from TME01.IndexerSimple import IndexerSimple\n",
    "from TME02.Weighter import Weighter1,Weighter2,Weighter3,Weighter4,Weighter5\n",
    "from TME02.Vectoriel import Vectoriel\n",
    "from TME02.ModeleLangue import ModeleLangue\n",
    "from TME02.Okapi import Okapi\n",
    "from TME03.EvalMesure import Precision, Rappel,Fmesure, AvgP,ReciprocalRank,NDCG\n",
    "from TME03.EvalIRModel import EvalIRModel\n",
    "import pickle as pkl\n",
    "import pandas as pd\n",
    "import numpy as np\n",
    "import random"
   ]
  },
  {
   "cell_type": "markdown",
   "metadata": {},
   "source": [
    "#### Parsing des collections de documents"
   ]
  },
  {
   "cell_type": "code",
   "execution_count": 3,
   "metadata": {},
   "outputs": [],
   "source": [
    "### Parsing des collections et des requetes correspondantes\n",
    "parsedCollection_cacm =Parser('data/cacm/cacm.txt').dict_doc\n",
    "parsedCollection_cisi =Parser('data/cisi/cisi.txt').dict_doc"
   ]
  },
  {
   "cell_type": "markdown",
   "metadata": {},
   "source": [
    "#### Construction des index sur les deux collections"
   ]
  },
  {
   "cell_type": "code",
   "execution_count": 15,
   "metadata": {},
   "outputs": [],
   "source": [
    "ind_cacm=IndexerSimple(parsedCollection_cacm)\n",
    "ind_cisi=IndexerSimple(parsedCollection_cisi)"
   ]
  },
  {
   "cell_type": "markdown",
   "metadata": {},
   "source": [
    "#### Parsing des collections de requetes"
   ]
  },
  {
   "cell_type": "code",
   "execution_count": 16,
   "metadata": {},
   "outputs": [],
   "source": [
    "parsedQuery_cacm =QueryParser('data/cacm/cacm.qry','data/cacm/cacm.rel').dict_q\n",
    "parsedQuery_cisi =QueryParser('data/cisi/cisi.qry','data/cacm/cacm.rel').dict_q"
   ]
  },
  {
   "cell_type": "markdown",
   "metadata": {},
   "source": [
    "#### Ecriture des index & des index inverses dans des fichiers .txt"
   ]
  },
  {
   "cell_type": "code",
   "execution_count": null,
   "metadata": {},
   "outputs": [],
   "source": [
    "### Ecriture des index dans des fichiers .txt\n",
    "fichier_index=open('index_cacm.txt','wb')\n",
    "pkl.dump(ind_cacm.index,fichier_index)\n",
    "fichier_index.close\n",
    "\n",
    "fichier_index_inv=open('index_inverse_cacm.txt','wb')\n",
    "pkl.dump(ind_cacm.index_inverse,fichier_index_inv)\n",
    "fichier_index_inv.close()\n",
    "\n",
    "fichier_index=open('index_cisi.txt','wb')\n",
    "pkl.dump(ind_cisi.index,fichier_index)\n",
    "fichier_index.close\n",
    "\n",
    "fichier_index_inv=open('index_inverse_cisi.txt','wb')\n",
    "pkl.dump(ind_cisi.index_inverse,fichier_index_inv)\n",
    "fichier_index_inv.close()"
   ]
  },
  {
   "cell_type": "markdown",
   "metadata": {},
   "source": [
    "# Evaluation des modèles sur CACM"
   ]
  },
  {
   "cell_type": "markdown",
   "metadata": {},
   "source": [
    "## TestSet validation (60-40)"
   ]
  },
  {
   "cell_type": "markdown",
   "metadata": {},
   "source": [
    "#### Séparation de l'ensemble des requetes en TrainingSet (60%) et TestSet (40%)"
   ]
  },
  {
   "cell_type": "code",
   "execution_count": 138,
   "metadata": {},
   "outputs": [],
   "source": [
    "liste_q=list(parsedQuery_cacm.keys())\n",
    "random.shuffle(liste_q)\n",
    "ens_q=list(filter(lambda x: len(x.list_id_doc)>0 ,[parsedQuery_cacm[id_q] for id_q in liste_q]))\n",
    "q_app=ens_q[:int(0.6*len(ens_q))]\n",
    "q_test=ens_q[int(0.6*len(ens_q)):]"
   ]
  },
  {
   "cell_type": "markdown",
   "metadata": {},
   "source": [
    "#### Instanciation des modèles"
   ]
  },
  {
   "cell_type": "code",
   "execution_count": 139,
   "metadata": {},
   "outputs": [],
   "source": [
    "Vect5wCosine=Vectoriel(ind_cacm,Weighter5(ind_cacm),True)\n",
    "Vect5wDotProd=Vectoriel(ind_cacm,Weighter5(ind_cacm),False)\n",
    "okapi=Okapi(ind_cacm)\n",
    "ml=ModeleLangue(ind_cacm)"
   ]
  },
  {
   "cell_type": "markdown",
   "metadata": {},
   "source": [
    "### Apprentissage"
   ]
  },
  {
   "cell_type": "markdown",
   "metadata": {},
   "source": [
    "#### Apprentissage du modèle OkapiBM25"
   ]
  },
  {
   "cell_type": "code",
   "execution_count": 140,
   "metadata": {},
   "outputs": [
    {
     "data": {
      "text/plain": [
       "{'bestTrainingScore': 0.213, 'k1': 1.4, 'b': 1.0}"
      ]
     },
     "execution_count": 140,
     "metadata": {},
     "output_type": "execute_result"
    }
   ],
   "source": [
    "GridForK1=np.arange(0.5,1.5,0.1)\n",
    "GridForB=np.arange(0.5,1.5,0.1)\n",
    "okapi.train(q_app,Precision(10),GridForK1,GridForB)"
   ]
  },
  {
   "cell_type": "markdown",
   "metadata": {},
   "source": [
    "#### Apprentissage du modèle de langue"
   ]
  },
  {
   "cell_type": "code",
   "execution_count": 141,
   "metadata": {},
   "outputs": [
    {
     "data": {
      "text/plain": [
       "{'bestTrainingScore ': 0.084, 'Lambda': 1.0}"
      ]
     },
     "execution_count": 141,
     "metadata": {},
     "output_type": "execute_result"
    }
   ],
   "source": [
    "GridForLambda=np.arange(0,1.1,0.1)\n",
    "ml.train(q_app,Precision(10),GridForLambda)"
   ]
  },
  {
   "cell_type": "markdown",
   "metadata": {},
   "source": [
    "### Tests"
   ]
  },
  {
   "cell_type": "code",
   "execution_count": 142,
   "metadata": {},
   "outputs": [],
   "source": [
    "models={'Vect5wCosine': Vect5wCosine,'Vect5wDotProd': Vect5wDotProd,'OkapiBM25': okapi,'ModèleLangue': ml}\n",
    "evaluation =EvalIRModel(q_test,models)"
   ]
  },
  {
   "cell_type": "markdown",
   "metadata": {},
   "source": [
    "#### Comparaison des modèles en terme de Precision@10"
   ]
  },
  {
   "cell_type": "code",
   "execution_count": 145,
   "metadata": {},
   "outputs": [
    {
     "name": "stdout",
     "output_type": "stream",
     "text": [
      "Moyenne de  Precision@10  pour le modele  Vect5wCosine  =  0.195\n",
      "Ecart type =  0.176\n",
      "------------------------------------------------------------\n",
      "Moyenne de  Precision@10  pour le modele  Vect5wDotProd  =  0.048\n",
      "Ecart type =  0.105\n",
      "------------------------------------------------------------\n",
      "Moyenne de  Precision@10  pour le modele  OkapiBM25  =  0.214\n",
      "Ecart type =  0.188\n",
      "------------------------------------------------------------\n",
      "Moyenne de  Precision@10  pour le modele  ModèleLangue  =  0.024\n",
      "Ecart type =  0.087\n",
      "------------------------------------------------------------\n"
     ]
    }
   ],
   "source": [
    "evaluation.afficher(evaluation.ComparePrecision(10),'Precision@10')"
   ]
  },
  {
   "cell_type": "markdown",
   "metadata": {},
   "source": [
    "#### Comparaison des modèles en terme de Rappel@10"
   ]
  },
  {
   "cell_type": "code",
   "execution_count": 146,
   "metadata": {},
   "outputs": [
    {
     "name": "stdout",
     "output_type": "stream",
     "text": [
      "Moyenne de  Rappel@10  pour le modele  Vect5wCosine  =  0.123\n",
      "Ecart type =  0.165\n",
      "------------------------------------------------------------\n",
      "Moyenne de  Rappel@10  pour le modele  Vect5wDotProd  =  0.02\n",
      "Ecart type =  0.048\n",
      "------------------------------------------------------------\n",
      "Moyenne de  Rappel@10  pour le modele  OkapiBM25  =  0.132\n",
      "Ecart type =  0.137\n",
      "------------------------------------------------------------\n",
      "Moyenne de  Rappel@10  pour le modele  ModèleLangue  =  0.012\n",
      "Ecart type =  0.044\n",
      "------------------------------------------------------------\n"
     ]
    }
   ],
   "source": [
    "evaluation.afficher(evaluation.CompareRappel(10),'Rappel@10')"
   ]
  },
  {
   "cell_type": "markdown",
   "metadata": {},
   "source": [
    "#### Comparaison des modèles en terme de FMesure@10"
   ]
  },
  {
   "cell_type": "code",
   "execution_count": 147,
   "metadata": {},
   "outputs": [
    {
     "name": "stdout",
     "output_type": "stream",
     "text": [
      "Moyenne de  FMesure@10  pour le modele  Vect5wCosine  =  0.133\n",
      "Ecart type =  0.124\n",
      "------------------------------------------------------------\n",
      "Moyenne de  FMesure@10  pour le modele  Vect5wDotProd  =  0.027\n",
      "Ecart type =  0.065\n",
      "------------------------------------------------------------\n",
      "Moyenne de  FMesure@10  pour le modele  OkapiBM25  =  0.145\n",
      "Ecart type =  0.12\n",
      "------------------------------------------------------------\n",
      "Moyenne de  FMesure@10  pour le modele  ModèleLangue  =  0.016\n",
      "Ecart type =  0.058\n",
      "------------------------------------------------------------\n"
     ]
    }
   ],
   "source": [
    "evaluation.afficher(evaluation.CompareFmesure(10),'FMesure@10')"
   ]
  },
  {
   "cell_type": "markdown",
   "metadata": {},
   "source": [
    "#### Comparaison des modèles en terme de AvgP"
   ]
  },
  {
   "cell_type": "code",
   "execution_count": 148,
   "metadata": {},
   "outputs": [
    {
     "name": "stdout",
     "output_type": "stream",
     "text": [
      "Moyenne de  AvgP  pour le modele  Vect5wCosine  =  0.041\n",
      "Ecart type =  0.102\n",
      "------------------------------------------------------------\n",
      "Moyenne de  AvgP  pour le modele  Vect5wDotProd  =  0.004\n",
      "Ecart type =  0.013\n",
      "------------------------------------------------------------\n",
      "Moyenne de  AvgP  pour le modele  OkapiBM25  =  0.036\n",
      "Ecart type =  0.048\n",
      "------------------------------------------------------------\n",
      "Moyenne de  AvgP  pour le modele  ModèleLangue  =  0.002\n",
      "Ecart type =  0.01\n",
      "------------------------------------------------------------\n"
     ]
    }
   ],
   "source": [
    "evaluation.afficher(evaluation.CompareAvgP(10),'AvgP')"
   ]
  },
  {
   "cell_type": "markdown",
   "metadata": {},
   "source": [
    "#### Comparaison des modèles en terme de RR"
   ]
  },
  {
   "cell_type": "code",
   "execution_count": 149,
   "metadata": {},
   "outputs": [
    {
     "name": "stdout",
     "output_type": "stream",
     "text": [
      "Moyenne de  ReciprocalRank  pour le modele  Vect5wCosine  =  0.485\n",
      "Ecart type =  0.398\n",
      "------------------------------------------------------------\n",
      "Moyenne de  ReciprocalRank  pour le modele  Vect5wDotProd  =  0.168\n",
      "Ecart type =  0.306\n",
      "------------------------------------------------------------\n",
      "Moyenne de  ReciprocalRank  pour le modele  OkapiBM25  =  0.592\n",
      "Ecart type =  0.439\n",
      "------------------------------------------------------------\n",
      "Moyenne de  ReciprocalRank  pour le modele  ModèleLangue  =  0.102\n",
      "Ecart type =  0.291\n",
      "------------------------------------------------------------\n"
     ]
    }
   ],
   "source": [
    "evaluation.afficher(evaluation.CompareRR(),'ReciprocalRank')"
   ]
  },
  {
   "cell_type": "markdown",
   "metadata": {},
   "source": [
    "#### Comparaison des modèles en terme de NDCG@10"
   ]
  },
  {
   "cell_type": "code",
   "execution_count": 150,
   "metadata": {},
   "outputs": [
    {
     "name": "stdout",
     "output_type": "stream",
     "text": [
      "Moyenne de  NDCG@10  pour le modele  Vect5wCosine  =  0.238\n",
      "Ecart type =  0.226\n",
      "------------------------------------------------------------\n",
      "Moyenne de  NDCG@10  pour le modele  Vect5wDotProd  =  0.057\n",
      "Ecart type =  0.12\n",
      "------------------------------------------------------------\n",
      "Moyenne de  NDCG@10  pour le modele  OkapiBM25  =  0.25\n",
      "Ecart type =  0.215\n",
      "------------------------------------------------------------\n",
      "Moyenne de  NDCG@10  pour le modele  ModèleLangue  =  0.024\n",
      "Ecart type =  0.08\n",
      "------------------------------------------------------------\n"
     ]
    }
   ],
   "source": [
    "evaluation.afficher(evaluation.CompareNDCG(10),'NDCG@10')"
   ]
  },
  {
   "cell_type": "markdown",
   "metadata": {},
   "source": [
    "##  Cross Validation ( 5 folds )"
   ]
  },
  {
   "cell_type": "markdown",
   "metadata": {},
   "source": [
    "#### Séparation de l'ensemble des requtes en 5 folds"
   ]
  },
  {
   "cell_type": "code",
   "execution_count": 130,
   "metadata": {},
   "outputs": [],
   "source": [
    "liste_q=list(parsedQuery_cacm.keys())\n",
    "ens_q=np.array(list(filter(lambda x: len(x.list_id_doc)>0 ,[parsedQuery_cacm[id_q] for id_q in liste_q])))\n",
    "np.random.shuffle(ens_q)\n",
    "ens_splité=np.array_split(ens_q,5)\n",
    "folds=list()\n",
    "for i in range(len(ens_splité)):\n",
    "    folds.append((np.concatenate([ens_splité[j] if i!=j else [] for j in range(len(ens_splité))],axis=None),ens_splité[i]))"
   ]
  },
  {
   "cell_type": "markdown",
   "metadata": {},
   "source": [
    "#### Instanciation des modèles"
   ]
  },
  {
   "cell_type": "code",
   "execution_count": 131,
   "metadata": {},
   "outputs": [],
   "source": [
    "Vect5wCosine=Vectoriel(ind_cacm,Weighter5(ind_cacm),True)\n",
    "Vect5wDotProd=Vectoriel(ind_cacm,Weighter5(ind_cacm),False)\n",
    "okapi=Okapi(ind_cacm)\n",
    "ml=ModeleLangue(ind_cacm)"
   ]
  },
  {
   "cell_type": "markdown",
   "metadata": {},
   "source": [
    "### Apprentissage"
   ]
  },
  {
   "cell_type": "markdown",
   "metadata": {},
   "source": [
    "#### Apprentissage d'un modèle OkapiBM25 pour chaque fold"
   ]
  },
  {
   "cell_type": "code",
   "execution_count": 132,
   "metadata": {},
   "outputs": [],
   "source": [
    "GridForK1=np.arange(0.5,1.5,0.1)\n",
    "GridForB=np.arange(0.5,1.5,0.1)\n",
    "param_okapi=list()\n",
    "for i in range(len(folds)):\n",
    "    param_okapi.append(okapi.train(folds[i][0],Precision(10),GridForK1,GridForB))"
   ]
  },
  {
   "cell_type": "code",
   "execution_count": 135,
   "metadata": {},
   "outputs": [
    {
     "data": {
      "text/plain": [
       "[{'bestTrainingScore': 0.21, 'k1': 1.4, 'b': 1.1},\n",
       " {'bestTrainingScore': 0.215, 'k1': 1.3, 'b': 1.0},\n",
       " {'bestTrainingScore': 0.214, 'k1': 1.4, 'b': 1.0},\n",
       " {'bestTrainingScore': 0.214, 'k1': 1.3, 'b': 0.9},\n",
       " {'bestTrainingScore': 0.219, 'k1': 1.4, 'b': 1.0}]"
      ]
     },
     "execution_count": 135,
     "metadata": {},
     "output_type": "execute_result"
    }
   ],
   "source": [
    "param_okapi"
   ]
  },
  {
   "cell_type": "markdown",
   "metadata": {},
   "source": [
    "#### Apprentissage d'un modèle de langue pour chaque fold"
   ]
  },
  {
   "cell_type": "code",
   "execution_count": 133,
   "metadata": {},
   "outputs": [],
   "source": [
    "GridForLambda=np.arange(0,1.1,0.1)\n",
    "param_ml=list()\n",
    "for i in range(len(folds)):\n",
    "    param_ml.append(ml.train(folds[i][0],Precision(10),GridForLambda))"
   ]
  },
  {
   "cell_type": "code",
   "execution_count": 136,
   "metadata": {},
   "outputs": [
    {
     "data": {
      "text/plain": [
       "[{'bestTrainingScore ': 0.066, 'Lambda': 1.0},\n",
       " {'bestTrainingScore ': 0.049, 'Lambda': 1.0},\n",
       " {'bestTrainingScore ': 0.067, 'Lambda': 1.0},\n",
       " {'bestTrainingScore ': 0.052, 'Lambda': 1.0},\n",
       " {'bestTrainingScore ': 0.064, 'Lambda': 1.0}]"
      ]
     },
     "execution_count": 136,
     "metadata": {},
     "output_type": "execute_result"
    }
   ],
   "source": [
    "param_ml"
   ]
  },
  {
   "cell_type": "markdown",
   "metadata": {},
   "source": [
    "## Tests "
   ]
  },
  {
   "cell_type": "markdown",
   "metadata": {},
   "source": [
    "### Pour chaque modele, on calcule la moyenne des scores sur les 5 folds de test"
   ]
  },
  {
   "cell_type": "markdown",
   "metadata": {},
   "source": [
    "#### Comparaison des modèles en terme de Precision@10"
   ]
  },
  {
   "cell_type": "code",
   "execution_count": 156,
   "metadata": {},
   "outputs": [
    {
     "name": "stdout",
     "output_type": "stream",
     "text": [
      "Moyenne de  Precision@10  pour le modele  Vect5wCosine  =  0.2\n",
      "Ecart type =  0.219\n",
      "------------------------------------------------------------\n",
      "Moyenne de  Precision@10  pour le modele  Vect5wDotProd  =  0.04\n",
      "Ecart type =  0.066\n",
      "------------------------------------------------------------\n",
      "Moyenne de  Precision@10  pour le modele  OkapiBM25  =  0.19\n",
      "Ecart type =  0.158\n",
      "------------------------------------------------------------\n",
      "Moyenne de  Precision@10  pour le modele  ModèleLangue  =  0.04\n",
      "Ecart type =  0.066\n",
      "------------------------------------------------------------\n"
     ]
    }
   ],
   "source": [
    "for i in range(len(folds)):\n",
    "    okapi=Okapi(ind_cacm,param_okapi[i]['k1'],param_okapi[i]['b'])\n",
    "    ml=ModeleLangue(ind_cacm,param_ml[i]['Lambda'])\n",
    "    models={'Vect5wCosine': Vect5wCosine,'Vect5wDotProd': Vect5wDotProd,'OkapiBM25': okapi,'ModèleLangue': ml}\n",
    "    evaluation =EvalIRModel(folds[i][1],models)\n",
    "    precision=evaluation.ComparePrecision(10)\n",
    "    dico_Precision={nom:([],[]) for nom in models.keys()}\n",
    "    for key,value in precision.items():\n",
    "        dico_Precision[key][0].append(value[0])\n",
    "        dico_Precision[key][1].append(value[1])\n",
    "evaluation.afficher({nom:(np.mean(stats[0]),np.mean(stats[1])) for nom, stats in dico_Precision.items()},'Precision@10')"
   ]
  },
  {
   "cell_type": "markdown",
   "metadata": {},
   "source": [
    "#### Comparaison des modèles en terme de Rappel@10"
   ]
  },
  {
   "cell_type": "code",
   "execution_count": 157,
   "metadata": {},
   "outputs": [
    {
     "name": "stdout",
     "output_type": "stream",
     "text": [
      "Moyenne de  Rappel@10  pour le modele  Vect5wCosine  =  0.196\n",
      "Ecart type =  0.245\n",
      "------------------------------------------------------------\n",
      "Moyenne de  Rappel@10  pour le modele  Vect5wDotProd  =  0.103\n",
      "Ecart type =  0.212\n",
      "------------------------------------------------------------\n",
      "Moyenne de  Rappel@10  pour le modele  OkapiBM25  =  0.176\n",
      "Ecart type =  0.195\n",
      "------------------------------------------------------------\n",
      "Moyenne de  Rappel@10  pour le modele  ModèleLangue  =  0.103\n",
      "Ecart type =  0.212\n",
      "------------------------------------------------------------\n"
     ]
    }
   ],
   "source": [
    "for i in range(len(folds)):\n",
    "    okapi=Okapi(ind_cacm,param_okapi[i]['k1'],param_okapi[i]['b'])\n",
    "    ml=ModeleLangue(ind_cacm,param_ml[i]['Lambda'])\n",
    "    models={'Vect5wCosine': Vect5wCosine,'Vect5wDotProd': Vect5wDotProd,'OkapiBM25': okapi,'ModèleLangue': ml}\n",
    "    evaluation =EvalIRModel(folds[i][1],models)\n",
    "    rappel=evaluation.CompareRappel(10)\n",
    "    dico_Rappel={nom:([],[]) for nom in models.keys()}\n",
    "    for key,value in rappel.items():\n",
    "        dico_Rappel[key][0].append(value[0])\n",
    "        dico_Rappel[key][1].append(value[1])\n",
    "evaluation.afficher({nom:(np.mean(stats[0]),np.mean(stats[1])) for nom, stats in dico_Rappel.items()},'Rappel@10')"
   ]
  },
  {
   "cell_type": "markdown",
   "metadata": {},
   "source": [
    "#### Comparaison des modèles en terme de FMesure@10"
   ]
  },
  {
   "cell_type": "code",
   "execution_count": 159,
   "metadata": {},
   "outputs": [
    {
     "name": "stdout",
     "output_type": "stream",
     "text": [
      "Moyenne de  Fmesure@10  pour le modele  Vect5wCosine  =  0.146\n",
      "Ecart type =  0.129\n",
      "------------------------------------------------------------\n",
      "Moyenne de  Fmesure@10  pour le modele  Vect5wDotProd  =  0.051\n",
      "Ecart type =  0.097\n",
      "------------------------------------------------------------\n",
      "Moyenne de  Fmesure@10  pour le modele  OkapiBM25  =  0.141\n",
      "Ecart type =  0.105\n",
      "------------------------------------------------------------\n",
      "Moyenne de  Fmesure@10  pour le modele  ModèleLangue  =  0.051\n",
      "Ecart type =  0.097\n",
      "------------------------------------------------------------\n"
     ]
    }
   ],
   "source": [
    "for i in range(len(folds)):\n",
    "    okapi=Okapi(ind_cacm,param_okapi[i]['k1'],param_okapi[i]['b'])\n",
    "    ml=ModeleLangue(ind_cacm,param_ml[i]['Lambda'])\n",
    "    models={'Vect5wCosine': Vect5wCosine,'Vect5wDotProd': Vect5wDotProd,'OkapiBM25': okapi,'ModèleLangue': ml}\n",
    "    evaluation =EvalIRModel(folds[i][1],models)\n",
    "    fmesure=evaluation.CompareFmesure(10)\n",
    "    dico_Fmesure={nom:([],[]) for nom in models.keys()}\n",
    "    for key,value in fmesure.items():\n",
    "        dico_Fmesure[key][0].append(value[0])\n",
    "        dico_Fmesure[key][1].append(value[1])\n",
    "evaluation.afficher({nom:(np.mean(stats[0]),np.mean(stats[1])) for nom, stats in dico_Fmesure.items()},'Fmesure@10')"
   ]
  },
  {
   "cell_type": "markdown",
   "metadata": {},
   "source": [
    "#### Comparaison des modèles en terme de AvgP"
   ]
  },
  {
   "cell_type": "code",
   "execution_count": 160,
   "metadata": {},
   "outputs": [
    {
     "name": "stdout",
     "output_type": "stream",
     "text": [
      "Moyenne de  AvgP  pour le modele  Vect5wCosine  =  0.04\n",
      "Ecart type =  0.056\n",
      "------------------------------------------------------------\n",
      "Moyenne de  AvgP  pour le modele  Vect5wDotProd  =  0.033\n",
      "Ecart type =  0.1\n",
      "------------------------------------------------------------\n",
      "Moyenne de  AvgP  pour le modele  OkapiBM25  =  0.054\n",
      "Ecart type =  0.098\n",
      "------------------------------------------------------------\n",
      "Moyenne de  AvgP  pour le modele  ModèleLangue  =  0.004\n",
      "Ecart type =  0.011\n",
      "------------------------------------------------------------\n"
     ]
    }
   ],
   "source": [
    "for i in range(len(folds)):\n",
    "    okapi=Okapi(ind_cacm,param_okapi[i]['k1'],param_okapi[i]['b'])\n",
    "    ml=ModeleLangue(ind_cacm,param_ml[i]['Lambda'])\n",
    "    models={'Vect5wCosine': Vect5wCosine,'Vect5wDotProd': Vect5wDotProd,'OkapiBM25': okapi,'ModèleLangue': ml}\n",
    "    evaluation =EvalIRModel(folds[i][1],models)\n",
    "    avgp=evaluation.CompareAvgP(10)\n",
    "    dico_avgp={nom:([],[]) for nom in models.keys()}\n",
    "    for key,value in avgp.items():\n",
    "        dico_avgp[key][0].append(value[0])\n",
    "        dico_avgp[key][1].append(value[1])\n",
    "evaluation.afficher({nom:(np.mean(stats[0]),np.mean(stats[1])) for nom, stats in dico_avgp.items()},'AvgP')"
   ]
  },
  {
   "cell_type": "markdown",
   "metadata": {},
   "source": [
    "#### Comparaison des modèles en terme de ReciprocalRank"
   ]
  },
  {
   "cell_type": "code",
   "execution_count": 162,
   "metadata": {},
   "outputs": [
    {
     "name": "stdout",
     "output_type": "stream",
     "text": [
      "Moyenne de  Reciprocal Rank  pour le modele  Vect5wCosine  =  0.418\n",
      "Ecart type =  0.406\n",
      "------------------------------------------------------------\n",
      "Moyenne de  Reciprocal Rank  pour le modele  Vect5wDotProd  =  0.171\n",
      "Ecart type =  0.312\n",
      "------------------------------------------------------------\n",
      "Moyenne de  Reciprocal Rank  pour le modele  OkapiBM25  =  0.488\n",
      "Ecart type =  0.38\n",
      "------------------------------------------------------------\n",
      "Moyenne de  Reciprocal Rank  pour le modele  ModèleLangue  =  0.177\n",
      "Ecart type =  0.313\n",
      "------------------------------------------------------------\n"
     ]
    }
   ],
   "source": [
    "for i in range(len(folds)):\n",
    "    okapi=Okapi(ind_cacm,param_okapi[i]['k1'],param_okapi[i]['b'])\n",
    "    ml=ModeleLangue(ind_cacm,param_ml[i]['Lambda'])\n",
    "    models={'Vect5wCosine': Vect5wCosine,'Vect5wDotProd': Vect5wDotProd,'OkapiBM25': okapi,'ModèleLangue': ml}\n",
    "    evaluation =EvalIRModel(folds[i][1],models)\n",
    "    rr=evaluation.CompareRR()\n",
    "    dico_RR={nom:([],[]) for nom in models.keys()}\n",
    "    for key,value in rr.items():\n",
    "        dico_RR[key][0].append(value[0])\n",
    "        dico_RR[key][1].append(value[1])\n",
    "evaluation.afficher({nom:(np.mean(stats[0]),np.mean(stats[1])) for nom, stats in dico_RR.items()},'Reciprocal Rank')"
   ]
  },
  {
   "cell_type": "markdown",
   "metadata": {},
   "source": [
    "#### Comparaison des modèles en terme de NDCG@10"
   ]
  },
  {
   "cell_type": "code",
   "execution_count": 163,
   "metadata": {},
   "outputs": [
    {
     "name": "stdout",
     "output_type": "stream",
     "text": [
      "Moyenne de  NDCG@10  pour le modele  Vect5wCosine  =  0.28\n",
      "Ecart type =  0.289\n",
      "------------------------------------------------------------\n",
      "Moyenne de  NDCG@10  pour le modele  Vect5wDotProd  =  0.122\n",
      "Ecart type =  0.239\n",
      "------------------------------------------------------------\n",
      "Moyenne de  NDCG@10  pour le modele  OkapiBM25  =  0.306\n",
      "Ecart type =  0.25\n",
      "------------------------------------------------------------\n",
      "Moyenne de  NDCG@10  pour le modele  ModèleLangue  =  0.095\n",
      "Ecart type =  0.169\n",
      "------------------------------------------------------------\n"
     ]
    }
   ],
   "source": [
    "for i in range(len(folds)):\n",
    "    okapi=Okapi(ind_cacm,param_okapi[i]['k1'],param_okapi[i]['b'])\n",
    "    ml=ModeleLangue(ind_cacm,param_ml[i]['Lambda'])\n",
    "    models={'Vect5wCosine': Vect5wCosine,'Vect5wDotProd': Vect5wDotProd,'OkapiBM25': okapi,'ModèleLangue': ml}\n",
    "    evaluation =EvalIRModel(folds[i][1],models)\n",
    "    ndcg=evaluation.CompareNDCG(10)\n",
    "    dico_NDCG={nom:([],[]) for nom in models.keys()}\n",
    "    for key,value in ndcg.items():\n",
    "        dico_NDCG[key][0].append(value[0])\n",
    "        dico_NDCG[key][1].append(value[1])\n",
    "evaluation.afficher({nom:(np.mean(stats[0]),np.mean(stats[1])) for nom, stats in dico_NDCG.items()},'NDCG@10')"
   ]
  },
  {
   "cell_type": "code",
   "execution_count": null,
   "metadata": {},
   "outputs": [],
   "source": []
  }
 ],
 "metadata": {
  "kernelspec": {
   "display_name": "Python 3",
   "language": "python",
   "name": "python3"
  },
  "language_info": {
   "codemirror_mode": {
    "name": "ipython",
    "version": 3
   },
   "file_extension": ".py",
   "mimetype": "text/x-python",
   "name": "python",
   "nbconvert_exporter": "python",
   "pygments_lexer": "ipython3",
   "version": "3.7.1"
  }
 },
 "nbformat": 4,
 "nbformat_minor": 2
}
